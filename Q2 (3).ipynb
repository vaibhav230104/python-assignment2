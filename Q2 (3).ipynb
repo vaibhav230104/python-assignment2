{
 "cells": [
  {
   "cell_type": "code",
   "execution_count": 9,
   "id": "5e08af2d-f383-4c0e-bb32-4f0e1c3f984d",
   "metadata": {},
   "outputs": [
    {
     "name": "stdout",
     "output_type": "stream",
     "text": [
      "Invitation sent to Vaibhav\n",
      "Invitation sent to Suhani\n",
      "Invitation sent to Rohit\n",
      "name : Vaibhav\n",
      "age : 19\n",
      "sex : male\n"
     ]
    }
   ],
   "source": [
    "#Both *args and **kwargs are special syntax, both of them helps us to write more flexible interfaces.\n",
    "\n",
    "# *args: It collects extra positional arguments as a tuple.\n",
    "def invitation(*args):\n",
    "    for name in args:\n",
    "        print(\"Invitation sent to\",name)\n",
    "invitation('Vaibhav', 'Suhani', 'Rohit' )\n",
    "\n",
    "\n",
    "# **kwargs: It collects extra keyword arguments as a dictionary.\n",
    "def details(**kwargs):\n",
    "    for key,value in kwargs.items():\n",
    "        print(key, \":\" , value)\n",
    "details(name='Vaibhav',age= 19,sex='male')"
   ]
  },
  {
   "cell_type": "code",
   "execution_count": null,
   "id": "4402d9f8-cab7-4f16-af6e-f11a689a31d3",
   "metadata": {},
   "outputs": [],
   "source": []
  }
 ],
 "metadata": {
  "kernelspec": {
   "display_name": "Python 3 (ipykernel)",
   "language": "python",
   "name": "python3"
  },
  "language_info": {
   "codemirror_mode": {
    "name": "ipython",
    "version": 3
   },
   "file_extension": ".py",
   "mimetype": "text/x-python",
   "name": "python",
   "nbconvert_exporter": "python",
   "pygments_lexer": "ipython3",
   "version": "3.10.8"
  }
 },
 "nbformat": 4,
 "nbformat_minor": 5
}
