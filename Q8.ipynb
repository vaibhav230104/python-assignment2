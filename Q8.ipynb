{
 "cells": [
  {
   "cell_type": "code",
   "execution_count": 9,
   "id": "0b72ea0e-476c-4117-a506-86cb87db9645",
   "metadata": {},
   "outputs": [
    {
     "name": "stdin",
     "output_type": "stream",
     "text": [
      "Enter the number 727\n"
     ]
    },
    {
     "name": "stdout",
     "output_type": "stream",
     "text": [
      "The number is palindrome\n"
     ]
    }
   ],
   "source": [
    "i = int(input(\"Enter the number\"))\n",
    "x=i\n",
    "rev = 0\n",
    "while i>0:\n",
    "    rev = (rev)*10 + i%10\n",
    "    i=i//10\n",
    "if (x == rev):\n",
    "    print(\"The number is palindrome\")\n",
    "else:\n",
    "    print(\"The number is not palindrome\")\n"
   ]
  },
  {
   "cell_type": "code",
   "execution_count": null,
   "id": "53edff64-cf6c-422b-882f-fb3dd5e422f4",
   "metadata": {},
   "outputs": [],
   "source": []
  }
 ],
 "metadata": {
  "kernelspec": {
   "display_name": "Python 3 (ipykernel)",
   "language": "python",
   "name": "python3"
  },
  "language_info": {
   "codemirror_mode": {
    "name": "ipython",
    "version": 3
   },
   "file_extension": ".py",
   "mimetype": "text/x-python",
   "name": "python",
   "nbconvert_exporter": "python",
   "pygments_lexer": "ipython3",
   "version": "3.10.8"
  }
 },
 "nbformat": 4,
 "nbformat_minor": 5
}
